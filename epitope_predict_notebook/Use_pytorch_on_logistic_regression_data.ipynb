{
 "cells": [
  {
   "cell_type": "code",
   "execution_count": 55,
   "metadata": {},
   "outputs": [],
   "source": [
    "import numpy as np\n",
    "import matplotlib.pyplot as plt\n",
    "import torch\n",
    "from sklearn.metrics import f1_score,roc_auc_score"
   ]
  },
  {
   "cell_type": "markdown",
   "metadata": {},
   "source": [
    "### The purpose of this script is to debug -- to prove that the sigmoid function is working properly, which means the problem of predicting all same class is not due to the last layer"
   ]
  },
  {
   "cell_type": "markdown",
   "metadata": {},
   "source": [
    "### simulate y = sigmoid(x) with x with mean of 0 and variance of 4 "
   ]
  },
  {
   "cell_type": "code",
   "execution_count": 35,
   "metadata": {},
   "outputs": [],
   "source": [
    "np.random.seed(10)\n",
    "num_observations = 10000\n",
    "x1 = np.random.normal(loc = 0.0, scale =4.0,  size =num_observations)\n",
    "y = 1 / (1 + np.exp(-x1))"
   ]
  },
  {
   "cell_type": "code",
   "execution_count": 36,
   "metadata": {},
   "outputs": [
    {
     "data": {
      "image/png": "[encoded data removed]",
      "text/plain": [
       "<Figure size 432x288 with 1 Axes>"
      ]
     },
     "metadata": {
      "needs_background": "light"
     },
     "output_type": "display_data"
    }
   ],
   "source": [
    "plt.figure() # Create a new figure, or activate an existing figure.\n",
    "plt.scatter(x1,y) # make scatter plot\n",
    "plt.show()"
   ]
  },
  {
   "cell_type": "code",
   "execution_count": 37,
   "metadata": {},
   "outputs": [
    {
     "name": "stdout",
     "output_type": "stream",
     "text": [
      "there are 5054 sample as 0 and 4946 sample as 1\n"
     ]
    }
   ],
   "source": [
    "# convert y <0.5 to 0 and y >=0.5 to 1\n",
    "y = [1 if num <0.5 else 0 for num in y ]\n",
    "print(f\"there are {y.count(0)} sample as 0 and {y.count(1)} sample as 1\")"
   ]
  },
  {
   "cell_type": "markdown",
   "metadata": {},
   "source": [
    "#### sample 3:1 case control ratio for training and validation set"
   ]
  },
  {
   "cell_type": "code",
   "execution_count": 38,
   "metadata": {},
   "outputs": [
    {
     "name": "stdout",
     "output_type": "stream",
     "text": [
      "(2, 5500) (2, 2300)\n"
     ]
    }
   ],
   "source": [
    "ones_idx = [i for i, e in enumerate(y) if e == 1]\n",
    "zeros_idx = [i for i, e in enumerate(y) if e == 0]\n",
    "train_ones_idx = ones_idx[:4000]\n",
    "val_ones_idx = ones_idx[4000:4800]\n",
    "train_zero_idx = zeros_idx[:1500]\n",
    "val_zero_idx = zeros_idx[1500:3000]\n",
    "train = np.vstack([([[x1[i] for i in train_ones_idx]+ [x1[i] for i in train_zero_idx]]), \n",
    "                   ([[y[i] for i in train_ones_idx]+[y[i] for i in train_zero_idx]])])\n",
    "val = np.vstack([([[x1[i] for i in val_ones_idx]+ [x1[i] for i in val_zero_idx]]), \n",
    "                   ([[y[i] for i in val_ones_idx]+[y[i] for i in val_zero_idx]])])\n",
    "print(train.shape, val.shape)"
   ]
  },
  {
   "cell_type": "code",
   "execution_count": 39,
   "metadata": {},
   "outputs": [
    {
     "data": {
      "image/png": "[encoded data removed]",
      "text/plain": [
       "<Figure size 432x288 with 1 Axes>"
      ]
     },
     "metadata": {
      "needs_background": "light"
     },
     "output_type": "display_data"
    }
   ],
   "source": [
    "# plot train and val \n",
    "plt.figure() # Create a new figure, or activate an existing figure.\n",
    "plt.scatter(train[0],train[1]) # make scatter plot\n",
    "plt.title(\"train set\")\n",
    "plt.show()"
   ]
  },
  {
   "cell_type": "code",
   "execution_count": 40,
   "metadata": {},
   "outputs": [
    {
     "data": {
      "image/png": "[encoded data removed]",
      "text/plain": [
       "<Figure size 432x288 with 1 Axes>"
      ]
     },
     "metadata": {
      "needs_background": "light"
     },
     "output_type": "display_data"
    }
   ],
   "source": [
    "# plot train and val \n",
    "plt.figure() # Create a new figure, or activate an existing figure.\n",
    "plt.scatter(val[0],val[1]) # make scatter plot\n",
    "plt.title(\"validation set\")\n",
    "plt.show()"
   ]
  },
  {
   "cell_type": "code",
   "execution_count": 41,
   "metadata": {},
   "outputs": [
    {
     "name": "stdout",
     "output_type": "stream",
     "text": [
      "training set before shuffle is [[-6.18160117  1.        ]\n",
      " [-0.0335354   1.        ]\n",
      " [-2.88034224  1.        ]\n",
      " ...\n",
      " [ 1.42074394  0.        ]\n",
      " [ 2.9530874   0.        ]\n",
      " [ 1.52372099  0.        ]]\n",
      "val set before shuffle is [[-2.65575987  1.        ]\n",
      " [-1.96951963  1.        ]\n",
      " [-3.68654686  1.        ]\n",
      " ...\n",
      " [ 0.1722922   0.        ]\n",
      " [ 1.40488578  0.        ]\n",
      " [ 1.74993621  0.        ]]\n"
     ]
    }
   ],
   "source": [
    "print(f\"training set before shuffle is {train.T}\")\n",
    "print(f\"val set before shuffle is {val.T}\")"
   ]
  },
  {
   "cell_type": "code",
   "execution_count": 42,
   "metadata": {},
   "outputs": [],
   "source": [
    "# shuffle rows of train and val so that case and controls are distributed evenly \n",
    "np.random.shuffle(train.T) # it will shuffle in place\n",
    "np.random.shuffle(val.T)"
   ]
  },
  {
   "cell_type": "code",
   "execution_count": 43,
   "metadata": {},
   "outputs": [
    {
     "name": "stdout",
     "output_type": "stream",
     "text": [
      "training set after shuffle is [[ 2.05627978  0.        ]\n",
      " [-1.92888618  1.        ]\n",
      " [ 4.3824302   0.        ]\n",
      " ...\n",
      " [ 9.59125577  0.        ]\n",
      " [-1.9159139   1.        ]\n",
      " [-0.63539567  1.        ]]\n",
      "val set after shuffle is [[11.701297    0.        ]\n",
      " [ 4.42001316  0.        ]\n",
      " [ 6.73196352  0.        ]\n",
      " ...\n",
      " [ 3.14784748  0.        ]\n",
      " [ 3.68882897  0.        ]\n",
      " [-4.23892954  1.        ]]\n"
     ]
    }
   ],
   "source": [
    "print(f\"training set after shuffle is {train.T}\")\n",
    "print(f\"val set after shuffle is {val.T}\")"
   ]
  },
  {
   "cell_type": "markdown",
   "metadata": {},
   "source": [
    "### train a logistic regression for outcome prediction"
   ]
  },
  {
   "cell_type": "code",
   "execution_count": 44,
   "metadata": {},
   "outputs": [],
   "source": [
    "class LogisticRegression(torch.nn.Module):\n",
    "    def __init__(self, input_dim, output_dim):\n",
    "        super(LogisticRegression, self).__init__()\n",
    "        self.linear = torch.nn.Linear(input_dim, output_dim )\n",
    "\n",
    "    def forward(self, input_dim):\n",
    "        outputs = torch.sigmoid(self.linear(input_dim))\n",
    "        return outputs"
   ]
  },
  {
   "cell_type": "code",
   "execution_count": 45,
   "metadata": {},
   "outputs": [],
   "source": [
    "model = LogisticRegression(len(train[0]),len(train[0]))\n",
    "optimizer = torch.optim.SGD(model.parameters(), lr=0.001)"
   ]
  },
  {
   "cell_type": "code",
   "execution_count": 72,
   "metadata": {},
   "outputs": [
    {
     "name": "stdout",
     "output_type": "stream",
     "text": [
      "1500 4000\n"
     ]
    }
   ],
   "source": [
    "print(train[1].tolist().count(0),train[1].tolist().count(1))"
   ]
  },
  {
   "cell_type": "markdown",
   "metadata": {},
   "source": [
    "### See if the model is able to predict 2 classes"
   ]
  },
  {
   "cell_type": "code",
   "execution_count": 75,
   "metadata": {},
   "outputs": [
    {
     "name": "stdout",
     "output_type": "stream",
     "text": [
      "1.0 have these many 3268, 0.0 have these many 2232\n",
      "1.0 have these many 3274, 0.0 have these many 2226\n",
      "1.0 have these many 3279, 0.0 have these many 2221\n",
      "1.0 have these many 3282, 0.0 have these many 2218\n",
      "1.0 have these many 3282, 0.0 have these many 2218\n",
      "1.0 have these many 3289, 0.0 have these many 2211\n",
      "1.0 have these many 3288, 0.0 have these many 2212\n",
      "1.0 have these many 3292, 0.0 have these many 2208\n",
      "1.0 have these many 3298, 0.0 have these many 2202\n",
      "1.0 have these many 3298, 0.0 have these many 2202\n",
      "1.0 have these many 3304, 0.0 have these many 2196\n",
      "1.0 have these many 3311, 0.0 have these many 2189\n",
      "1.0 have these many 3321, 0.0 have these many 2179\n",
      "1.0 have these many 3327, 0.0 have these many 2173\n",
      "1.0 have these many 3337, 0.0 have these many 2163\n",
      "1.0 have these many 3342, 0.0 have these many 2158\n",
      "1.0 have these many 3353, 0.0 have these many 2147\n",
      "1.0 have these many 3357, 0.0 have these many 2143\n",
      "1.0 have these many 3358, 0.0 have these many 2142\n",
      "1.0 have these many 3361, 0.0 have these many 2139\n",
      "1.0 have these many 3364, 0.0 have these many 2136\n",
      "1.0 have these many 3373, 0.0 have these many 2127\n",
      "1.0 have these many 3377, 0.0 have these many 2123\n",
      "1.0 have these many 3385, 0.0 have these many 2115\n",
      "1.0 have these many 3387, 0.0 have these many 2113\n",
      "1.0 have these many 3394, 0.0 have these many 2106\n",
      "1.0 have these many 3400, 0.0 have these many 2100\n",
      "1.0 have these many 3403, 0.0 have these many 2097\n",
      "1.0 have these many 3411, 0.0 have these many 2089\n",
      "1.0 have these many 3417, 0.0 have these many 2083\n",
      "1.0 have these many 3419, 0.0 have these many 2081\n",
      "1.0 have these many 3423, 0.0 have these many 2077\n",
      "1.0 have these many 3427, 0.0 have these many 2073\n",
      "1.0 have these many 3432, 0.0 have these many 2068\n",
      "1.0 have these many 3434, 0.0 have these many 2066\n",
      "1.0 have these many 3439, 0.0 have these many 2061\n",
      "1.0 have these many 3438, 0.0 have these many 2062\n",
      "1.0 have these many 3445, 0.0 have these many 2055\n",
      "1.0 have these many 3448, 0.0 have these many 2052\n",
      "1.0 have these many 3449, 0.0 have these many 2051\n",
      "1.0 have these many 3456, 0.0 have these many 2044\n",
      "1.0 have these many 3469, 0.0 have these many 2031\n",
      "1.0 have these many 3475, 0.0 have these many 2025\n",
      "1.0 have these many 3479, 0.0 have these many 2021\n",
      "1.0 have these many 3485, 0.0 have these many 2015\n",
      "1.0 have these many 3484, 0.0 have these many 2016\n",
      "1.0 have these many 3488, 0.0 have these many 2012\n",
      "1.0 have these many 3487, 0.0 have these many 2013\n",
      "1.0 have these many 3488, 0.0 have these many 2012\n",
      "1.0 have these many 3495, 0.0 have these many 2005\n",
      "1.0 have these many 3499, 0.0 have these many 2001\n",
      "1.0 have these many 3498, 0.0 have these many 2002\n",
      "1.0 have these many 3502, 0.0 have these many 1998\n",
      "1.0 have these many 3504, 0.0 have these many 1996\n",
      "1.0 have these many 3508, 0.0 have these many 1992\n",
      "1.0 have these many 3514, 0.0 have these many 1986\n",
      "1.0 have these many 3524, 0.0 have these many 1976\n",
      "1.0 have these many 3524, 0.0 have these many 1976\n",
      "1.0 have these many 3524, 0.0 have these many 1976\n",
      "1.0 have these many 3529, 0.0 have these many 1971\n",
      "1.0 have these many 3531, 0.0 have these many 1969\n",
      "1.0 have these many 3533, 0.0 have these many 1967\n",
      "1.0 have these many 3540, 0.0 have these many 1960\n",
      "1.0 have these many 3547, 0.0 have these many 1953\n",
      "1.0 have these many 3552, 0.0 have these many 1948\n",
      "1.0 have these many 3555, 0.0 have these many 1945\n",
      "1.0 have these many 3557, 0.0 have these many 1943\n",
      "1.0 have these many 3559, 0.0 have these many 1941\n",
      "1.0 have these many 3563, 0.0 have these many 1937\n",
      "1.0 have these many 3569, 0.0 have these many 1931\n",
      "1.0 have these many 3576, 0.0 have these many 1924\n",
      "1.0 have these many 3576, 0.0 have these many 1924\n",
      "1.0 have these many 3581, 0.0 have these many 1919\n",
      "1.0 have these many 3585, 0.0 have these many 1915\n",
      "1.0 have these many 3588, 0.0 have these many 1912\n",
      "1.0 have these many 3592, 0.0 have these many 1908\n",
      "1.0 have these many 3593, 0.0 have these many 1907\n",
      "1.0 have these many 3596, 0.0 have these many 1904\n",
      "1.0 have these many 3597, 0.0 have these many 1903\n",
      "1.0 have these many 3599, 0.0 have these many 1901\n",
      "1.0 have these many 3606, 0.0 have these many 1894\n",
      "1.0 have these many 3606, 0.0 have these many 1894\n",
      "1.0 have these many 3609, 0.0 have these many 1891\n",
      "1.0 have these many 3608, 0.0 have these many 1892\n",
      "1.0 have these many 3608, 0.0 have these many 1892\n",
      "1.0 have these many 3616, 0.0 have these many 1884\n",
      "1.0 have these many 3620, 0.0 have these many 1880\n",
      "1.0 have these many 3620, 0.0 have these many 1880\n",
      "1.0 have these many 3624, 0.0 have these many 1876\n",
      "1.0 have these many 3629, 0.0 have these many 1871\n",
      "1.0 have these many 3631, 0.0 have these many 1869\n",
      "1.0 have these many 3635, 0.0 have these many 1865\n",
      "1.0 have these many 3635, 0.0 have these many 1865\n",
      "1.0 have these many 3644, 0.0 have these many 1856\n",
      "1.0 have these many 3652, 0.0 have these many 1848\n",
      "1.0 have these many 3655, 0.0 have these many 1845\n",
      "1.0 have these many 3661, 0.0 have these many 1839\n",
      "1.0 have these many 3663, 0.0 have these many 1837\n",
      "1.0 have these many 3672, 0.0 have these many 1828\n",
      "1.0 have these many 3673, 0.0 have these many 1827\n"
     ]
    }
   ],
   "source": [
    "for epoch in range(100):\n",
    "        total_loss = 0.0\n",
    "        total_f1 = 0.0\n",
    "        total_auc = 0.0\n",
    "        # Step 1. Remember that Pytorch accumulates gradients.\n",
    "        # We need to clear them out before each instance\n",
    "        model.zero_grad()\n",
    "\n",
    "\n",
    "        # Step 2. Get our inputs ready for the network, that is, turn them into\n",
    "        # Tensors of word indices.\n",
    "        # torch.stack convert input to tensor, and transpose it to (batch_size, padded_len), torch.LongTensor convert to intabs\n",
    "        true_target = torch.from_numpy(train[1]).float() #torch.FloatTensor is the default type\n",
    "        \n",
    "        #print(f\"true target shape is {true_target.shape}\")\n",
    "        \n",
    "        # Step 3. Run our forward pass.\n",
    "        pred_target = model(torch.from_numpy(train[0]).float())\n",
    "        #print(pred_target)\n",
    "        #print(f\"pred target shape is {pred_target.shape}\")\n",
    "        #print(padded_peptide_in)\n",
    "        \n",
    "        # Step 4. Compute the loss, gradients, and update the parameters by\n",
    "        #  calling optimizer.step()\n",
    "        loss = torch.nn.functional.binary_cross_entropy(pred_target, true_target)\n",
    "        \n",
    "        #print(f\"target shapes are {pred_target.shape, true_target.shape}\")\n",
    "        # Step 5. compute accuracy\n",
    "        pred_binary = (pred_target > 0.5).type(torch.FloatTensor)\n",
    "        \n",
    "        print(f\"1.0 have these many {pred_binary.tolist().count(1.0)}, 0.0 have these many {pred_binary.tolist().count(0.0)}\" )\n",
    "        f1 = f1_score(true_target, pred_binary, average = 'weighted')\n",
    "        auc = roc_auc_score(true_target, pred_binary, average = 'weighted')\n",
    "        \n",
    "        loss.backward()\n",
    "        #optimizer.step is performs a parameter update based on the current gradient (stored in .grad attribute of a parameter) and the update rule.\n",
    "        optimizer.step()\n",
    "        #The item() method extracts the loss’s value as a Python float.\n",
    "        total_loss +=loss.item()\n",
    "        total_f1 += f1\n",
    "        total_auc += auc\n",
    "        "
   ]
  },
  {
   "cell_type": "markdown",
   "metadata": {},
   "source": [
    "#### Yes, it can!"
   ]
  },
  {
   "cell_type": "code",
   "execution_count": null,
   "metadata": {},
   "outputs": [],
   "source": []
  }
 ],
 "metadata": {
  "kernelspec": {
   "display_name": "predict_epitope",
   "language": "python",
   "name": "predict_epitope"
  },
  "language_info": {
   "codemirror_mode": {
    "name": "ipython",
    "version": 3
   },
   "file_extension": ".py",
   "mimetype": "text/x-python",
   "name": "python",
   "nbconvert_exporter": "python",
   "pygments_lexer": "ipython3",
   "version": "3.7.10"
  }
 },
 "nbformat": 4,
 "nbformat_minor": 4
}
